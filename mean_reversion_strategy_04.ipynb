{
  "nbformat": 4,
  "nbformat_minor": 0,
  "metadata": {
    "colab": {
      "provenance": [],
      "authorship_tag": "ABX9TyMtu/AnW2yMq4qo+RGZngQf",
      "include_colab_link": true
    },
    "kernelspec": {
      "name": "python3",
      "display_name": "Python 3"
    },
    "language_info": {
      "name": "python"
    }
  },
  "cells": [
    {
      "cell_type": "markdown",
      "metadata": {
        "id": "view-in-github",
        "colab_type": "text"
      },
      "source": [
        "<a href=\"https://colab.research.google.com/github/kalepravinkumars/mean_reversion_strategy/blob/main/mean_reversion_strategy_04.ipynb\" target=\"_parent\"><img src=\"https://colab.research.google.com/assets/colab-badge.svg\" alt=\"Open In Colab\"/></a>"
      ]
    },
    {
      "cell_type": "code",
      "source": [
        "import yfinance as yf\n",
        "import pandas as pd"
      ],
      "metadata": {
        "id": "Am2eKwnuYQEV"
      },
      "execution_count": 3,
      "outputs": []
    },
    {
      "cell_type": "code",
      "source": [
        "def fetch_stock_data(symbol, start_date, end_date):\n",
        "    # Fetch historical stock data from Yahoo Finance\n",
        "    stock_data = yf.download(symbol, start=start_date, end=end_date, interval='1d')\n",
        "\n",
        "    return stock_data"
      ],
      "metadata": {
        "id": "CBk0gfxFXjKb"
      },
      "execution_count": 4,
      "outputs": []
    },
    {
      "cell_type": "code",
      "source": [
        "def mean_reversion_strategy_1(stock_data,rollavg,sigma):\n",
        "    # Calculate the mean and standard deviation\n",
        "    stock_data['Mean'] = stock_data['Close'].rolling(window=rollavg).mean()\n",
        "    stock_data['Std'] = stock_data['Close'].rolling(window=rollavg).std()\n",
        "\n",
        "    # Define the upper and lower bands\n",
        "    stock_data['Upper Band'] = stock_data['Mean'] + (sigma * stock_data['Std'])\n",
        "    stock_data['Lower Band'] = stock_data['Mean'] - (sigma * stock_data['Std'])\n",
        "\n",
        "    # Generate trading signals\n",
        "    stock_data['Signal'] = 0\n",
        "    stock_data.loc[(stock_data['Close'] > stock_data['Upper Band']) & (stock_data['Close'] > stock_data['Mean']), 'Signal'] = -1\n",
        "    stock_data.loc[stock_data['Close'] < stock_data['Lower Band'], 'Signal'] = 1\n",
        "\n",
        "    # Calculate profit/loss\n",
        "    stock_data['Buy Price'] = stock_data['Close'].shift(1)\n",
        "    stock_data['Profit/Loss'] = (stock_data['Close'] - stock_data['Buy Price']) * stock_data['Signal']\n",
        "\n",
        "    return stock_data"
      ],
      "metadata": {
        "id": "3VezOYEGXd3D"
      },
      "execution_count": 5,
      "outputs": []
    },
    {
      "cell_type": "code",
      "source": [
        "nifty50_symbols = [\n",
        "    'RELIANCE.NS', 'TCS.NS', 'HDFCBANK.NS', 'HINDUNILVR.NS', 'INFY.NS', 'ICICIBANK.NS',\n",
        "    'KOTAKBANK.NS', 'HDFC.NS', 'ITC.NS', 'LT.NS', 'SBIN.NS', 'ASIANPAINT.NS', 'AXISBANK.NS',\n",
        "    'MARUTI.NS', 'HCLTECH.NS', 'BAJFINANCE.NS', 'TECHM.NS', 'BAJAJFINSV.NS', 'ONGC.NS',\n",
        "    'TITAN.NS', 'NESTLEIND.NS', 'HEROMOTOCO.NS', 'WIPRO.NS', 'COALINDIA.NS', 'POWERGRID.NS',\n",
        "    'INDUSINDBK.NS', 'ULTRACEMCO.NS', 'SUNPHARMA.NS', 'BHARTIARTL.NS', 'JSWSTEEL.NS',\n",
        "    'M&M.NS', 'DRREDDY.NS', 'CIPLA.NS', 'BRITANNIA.NS', 'GRASIM.NS', 'TATASTEEL.NS',\n",
        "    'EICHERMOT.NS', 'DIVISLAB.NS', 'ADANIPORTS.NS', 'SHREECEM.NS', 'NTPC.NS', 'SBILIFE.NS',\n",
        "    'BAJAJ-AUTO.NS', 'HINDALCO.NS', 'IOC.NS', 'UPL.NS', 'VEDL.NS', 'HDFCLIFE.NS', 'HINDPETRO.NS',\n",
        "    'JSWENERGY.NS', 'TATAMOTORS.NS'\n",
        "]\n",
        "\n",
        "banknifty_symbols = [\n",
        "    'HDFCBANK.NS', 'ICICIBANK.NS', 'AXISBANK.NS', 'SBIN.NS', 'KOTAKBANK.NS', 'INDUSINDBK.NS',\n",
        "    'BANKBARODA.NS', 'PNB.NS', 'IDFCFIRSTB.NS', 'FEDERALBNK.NS', 'BANDHANBNK.NS', 'RBLBANK.NS',\n",
        "    'SBICARD.NS', 'IDBI.NS', 'CANBK.NS', 'SYNDIBANK.NS', 'UCOBANK.NS', 'SOUTHBANK.NS',\n",
        "    'UNIONBANK.NS', 'CENTRALBK.NS', 'J&KBANK.NS', 'KARURVYSYA.NS', 'FEDERALBNK.NS', 'BANKINDIA.NS',\n",
        "    'VIJAYABANK.NS', 'INDIANB.NS', 'IOB.NS', 'PNBHOUSING.NS', 'DBS.NS', 'DCBBANK.NS', 'AUROPHARMA.NS'\n",
        "]\n",
        "\n",
        "# Combine and get unique symbols\n",
        "combined_symbols = list(set(nifty50_symbols + banknifty_symbols))\n",
        "\n",
        "\n",
        "\n",
        "\n",
        "# Set the date range for fetching historical data\n",
        "start_date = '2020-01-01'\n",
        "end_date = '2022-12-31'\n",
        "profit=[]\n",
        "\n",
        "\n",
        "for i in combined_symbols:\n",
        "  symbol = i\n",
        "  stock_data = fetch_stock_data(symbol, start_date, end_date)\n",
        "  for roll in range(1,360):\n",
        "    sig=0.5\n",
        "    for j in range(1,6):\n",
        "      # Perform mean reversion strategy\n",
        "      strategy_data = mean_reversion_strategy_1(stock_data,roll,j)\n",
        "      # Display the trading signal history and profit/loss\n",
        "      #print(strategy_data[['Close', 'Upper Band', 'Lower Band', 'Signal', 'Profit/Loss']].head())\n",
        "      #print(strategy_data.describe())\n",
        "      if strategy_data['Profit/Loss'].sum() >0:\n",
        "        print('sigma',sig)\n",
        "        print('rolling_window',roll)\n",
        "        print('stock name',i)\n",
        "        print('maximum profit: ', strategy_data['Profit/Loss'].max())\n",
        "        print('minimum profit: ',strategy_data['Profit/Loss'].min())\n",
        "        print('Total profit: ', strategy_data['Profit/Loss'].sum())\n",
        "      #print('maximum profit: ', strategy_data['Profit/Loss'].max())\n",
        "      #print('minimum profit: ',strategy_data['Profit/Loss'].min())\n",
        "      #print('Total profit: ', strategy_data['Profit/Loss'].sum())\n",
        "\n",
        "      sig +=0.5"
      ],
      "metadata": {
        "outputId": "4fe2b1ff-6f21-492f-c07d-1d5116fb8b13",
        "colab": {
          "base_uri": "https://localhost:8080/"
        },
        "id": "SWWmrv83IF3B"
      },
      "execution_count": null,
      "outputs": [
        {
          "output_type": "stream",
          "name": "stdout",
          "text": [
            "[*********************100%***********************]  1 of 1 completed\n",
            "[*********************100%***********************]  1 of 1 completed\n",
            "[*********************100%***********************]  1 of 1 completed\n",
            "sigma 1.5\n",
            "rolling_window 286\n",
            "stock name POWERGRID.NS\n",
            "maximum profit:  3.225006103515625\n",
            "minimum profit:  -0.0\n",
            "Total profit:  3.225006103515625\n"
          ]
        }
      ]
    }
  ]
}