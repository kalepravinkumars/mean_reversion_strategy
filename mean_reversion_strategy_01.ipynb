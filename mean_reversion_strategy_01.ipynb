{
  "nbformat": 4,
  "nbformat_minor": 0,
  "metadata": {
    "colab": {
      "provenance": [],
      "authorship_tag": "ABX9TyMVkEag1U6BuqzXfRZHB6o7",
      "include_colab_link": true
    },
    "kernelspec": {
      "name": "python3",
      "display_name": "Python 3"
    },
    "language_info": {
      "name": "python"
    }
  },
  "cells": [
    {
      "cell_type": "markdown",
      "metadata": {
        "id": "view-in-github",
        "colab_type": "text"
      },
      "source": [
        "<a href=\"https://colab.research.google.com/github/kalepravinkumars/mean_reversion_strategy/blob/main/mean_reversion_strategy_01.ipynb\" target=\"_parent\"><img src=\"https://colab.research.google.com/assets/colab-badge.svg\" alt=\"Open In Colab\"/></a>"
      ]
    },
    {
      "cell_type": "code",
      "source": [
        "import yfinance as yf\n",
        "import pandas as pd\n",
        "\n",
        "nifty50_symbols = [\n",
        "    'RELIANCE.NS', 'TCS.NS', 'HDFCBANK.NS', 'HINDUNILVR.NS', 'INFY.NS', 'ICICIBANK.NS',\n",
        "    'KOTAKBANK.NS', 'HDFC.NS', 'ITC.NS', 'LT.NS', 'SBIN.NS', 'ASIANPAINT.NS', 'AXISBANK.NS',\n",
        "    'MARUTI.NS', 'HCLTECH.NS', 'BAJFINANCE.NS', 'TECHM.NS', 'BAJAJFINSV.NS', 'ONGC.NS',\n",
        "    'TITAN.NS', 'NESTLEIND.NS', 'HEROMOTOCO.NS', 'WIPRO.NS', 'COALINDIA.NS', 'POWERGRID.NS',\n",
        "    'INDUSINDBK.NS', 'ULTRACEMCO.NS', 'SUNPHARMA.NS', 'BHARTIARTL.NS', 'JSWSTEEL.NS',\n",
        "    'M&M.NS', 'DRREDDY.NS', 'CIPLA.NS', 'BRITANNIA.NS', 'GRASIM.NS', 'TATASTEEL.NS',\n",
        "    'EICHERMOT.NS', 'DIVISLAB.NS', 'ADANIPORTS.NS', 'SHREECEM.NS', 'NTPC.NS', 'SBILIFE.NS',\n",
        "    'BAJAJ-AUTO.NS', 'HINDALCO.NS', 'IOC.NS', 'UPL.NS', 'VEDL.NS', 'HDFCLIFE.NS', 'HINDPETRO.NS',\n",
        "    'JSWENERGY.NS', 'TATAMOTORS.NS', 'IOC.BO', 'ONGC.BO', 'COALINDIA.BO'\n",
        "]\n",
        "\n",
        "\n",
        "def fetch_stock_data(symbol, start_date, end_date):\n",
        "    # Fetch historical stock data from Yahoo Finance\n",
        "    stock_data = yf.download(symbol, start=start_date, end=end_date, interval='1d')\n",
        "    \n",
        "    return stock_data\n",
        "\n",
        "def mean_reversion_strategy(stock_data,sigma):\n",
        "    # Calculate the mean and standard deviation\n",
        "    stock_data['Mean'] = stock_data['Close'].rolling(window=15).mean()\n",
        "    stock_data['Std'] = stock_data['Close'].rolling(window=15).std()\n",
        "    \n",
        "    # Define the upper and lower bands\n",
        "    stock_data['Upper Band'] = stock_data['Mean'] + (sigma * stock_data['Std'])\n",
        "    stock_data['Lower Band'] = stock_data['Mean'] - (sigma * stock_data['Std'])\n",
        "    \n",
        "    # Generate trading signals\n",
        "    stock_data['Signal'] = 0\n",
        "    stock_data.loc[stock_data['Close'] > stock_data['Upper Band'], 'Signal'] = -1\n",
        "    stock_data.loc[stock_data['Close'] < stock_data['Lower Band'], 'Signal'] = 1\n",
        "    \n",
        "    # Calculate profit/loss\n",
        "    stock_data['Buy Price'] = stock_data['Close'].shift(1)\n",
        "    stock_data['Profit/Loss'] = (stock_data['Close'] - stock_data['Buy Price']) * stock_data['Signal']\n",
        "    \n",
        "    return stock_data\n"
      ],
      "metadata": {
        "id": "1EttBUFyl1Lh"
      },
      "execution_count": 1,
      "outputs": []
    },
    {
      "cell_type": "code",
      "source": [
        "# Set the date range for fetching historical data\n",
        "start_date = '2020-01-01'\n",
        "end_date = '2022-12-31'\n",
        "\n",
        "for i in nifty50_symbols:\n",
        "  symbol = i\n",
        "  stock_data = fetch_stock_data(symbol, start_date, end_date)\n",
        "\n",
        "  # Perform mean reversion strategy\n",
        "  strategy_data = mean_reversion_strategy(stock_data,1.2)\n",
        "\n",
        "  # Display the trading signal history and profit/loss\n",
        "  #print(strategy_data[['Close', 'Upper Band', 'Lower Band', 'Signal', 'Profit/Loss']].head())\n",
        "  \n",
        "  #print(strategy_data.describe())\n",
        "  if strategy_data['Profit/Loss'].min()-strategy_data['Profit/Loss'].max() >0:\n",
        "    print(i)\n",
        "    print('maximum profit: ', strategy_data['Profit/Loss'].max())\n",
        "    print('minimum profit: ',strategy_data['Profit/Loss'].min())\n",
        "\n",
        "  "
      ],
      "metadata": {
        "colab": {
          "base_uri": "https://localhost:8080/"
        },
        "id": "P8zCtJ9lo4ov",
        "outputId": "cd6d806a-f7e8-4be4-b3dd-29ca302c83d7"
      },
      "execution_count": 6,
      "outputs": [
        {
          "output_type": "stream",
          "name": "stdout",
          "text": [
            "[*********************100%***********************]  1 of 1 completed\n",
            "[*********************100%***********************]  1 of 1 completed\n",
            "[*********************100%***********************]  1 of 1 completed\n",
            "[*********************100%***********************]  1 of 1 completed\n",
            "[*********************100%***********************]  1 of 1 completed\n",
            "[*********************100%***********************]  1 of 1 completed\n",
            "[*********************100%***********************]  1 of 1 completed\n",
            "[*********************100%***********************]  1 of 1 completed\n",
            "[*********************100%***********************]  1 of 1 completed\n",
            "[*********************100%***********************]  1 of 1 completed\n",
            "[*********************100%***********************]  1 of 1 completed\n",
            "[*********************100%***********************]  1 of 1 completed\n",
            "[*********************100%***********************]  1 of 1 completed\n",
            "[*********************100%***********************]  1 of 1 completed\n",
            "[*********************100%***********************]  1 of 1 completed\n",
            "[*********************100%***********************]  1 of 1 completed\n",
            "[*********************100%***********************]  1 of 1 completed\n",
            "[*********************100%***********************]  1 of 1 completed\n",
            "[*********************100%***********************]  1 of 1 completed\n",
            "[*********************100%***********************]  1 of 1 completed\n",
            "[*********************100%***********************]  1 of 1 completed\n",
            "[*********************100%***********************]  1 of 1 completed\n",
            "[*********************100%***********************]  1 of 1 completed\n",
            "[*********************100%***********************]  1 of 1 completed\n",
            "[*********************100%***********************]  1 of 1 completed\n",
            "[*********************100%***********************]  1 of 1 completed\n",
            "[*********************100%***********************]  1 of 1 completed\n",
            "[*********************100%***********************]  1 of 1 completed\n",
            "[*********************100%***********************]  1 of 1 completed\n",
            "[*********************100%***********************]  1 of 1 completed\n",
            "[*********************100%***********************]  1 of 1 completed\n",
            "[*********************100%***********************]  1 of 1 completed\n",
            "[*********************100%***********************]  1 of 1 completed\n",
            "[*********************100%***********************]  1 of 1 completed\n",
            "[*********************100%***********************]  1 of 1 completed\n",
            "[*********************100%***********************]  1 of 1 completed\n",
            "[*********************100%***********************]  1 of 1 completed\n",
            "[*********************100%***********************]  1 of 1 completed\n",
            "[*********************100%***********************]  1 of 1 completed\n",
            "[*********************100%***********************]  1 of 1 completed\n",
            "[*********************100%***********************]  1 of 1 completed\n",
            "[*********************100%***********************]  1 of 1 completed\n",
            "[*********************100%***********************]  1 of 1 completed\n",
            "[*********************100%***********************]  1 of 1 completed\n",
            "[*********************100%***********************]  1 of 1 completed\n",
            "[*********************100%***********************]  1 of 1 completed\n",
            "[*********************100%***********************]  1 of 1 completed\n",
            "[*********************100%***********************]  1 of 1 completed\n",
            "[*********************100%***********************]  1 of 1 completed\n",
            "[*********************100%***********************]  1 of 1 completed\n",
            "[*********************100%***********************]  1 of 1 completed\n",
            "[*********************100%***********************]  1 of 1 completed\n",
            "[*********************100%***********************]  1 of 1 completed\n",
            "[*********************100%***********************]  1 of 1 completed\n"
          ]
        }
      ]
    },
    {
      "cell_type": "code",
      "source": [
        "# Set the date range for fetching historical data\n",
        "start_date = '2020-01-01'\n",
        "end_date = '2022-12-31'\n",
        "\n",
        "\n",
        "for i in nifty50_symbols:\n",
        "  symbol = i\n",
        "  stock_data = fetch_stock_data(symbol, start_date, end_date)\n",
        "  for j in range(1,3,0.1):\n",
        "    # Perform mean reversion strategy\n",
        "    strategy_data = mean_reversion_strategy(stock_data,j)\n",
        "    # Display the trading signal history and profit/loss\n",
        "    #print(strategy_data[['Close', 'Upper Band', 'Lower Band', 'Signal', 'Profit/Loss']].head())\n",
        "    #print(strategy_data.describe())\n",
        "    if strategy_data['Profit/Loss'].min()-strategy_data['Profit/Loss'].max() >0:\n",
        "      print(j)\n",
        "      print(i)\n",
        "      print('maximum profit: ', strategy_data['Profit/Loss'].max())\n",
        "      print('minimum profit: ',strategy_data['Profit/Loss'].min())"
      ],
      "metadata": {
        "id": "H3NUw0BD3ZDv",
        "outputId": "257027d8-27f9-4145-9b73-9d4b38bdb28a",
        "colab": {
          "base_uri": "https://localhost:8080/",
          "height": 263
        }
      },
      "execution_count": 8,
      "outputs": [
        {
          "output_type": "stream",
          "name": "stdout",
          "text": [
            "\r[*********************100%***********************]  1 of 1 completed\n"
          ]
        },
        {
          "output_type": "error",
          "ename": "TypeError",
          "evalue": "ignored",
          "traceback": [
            "\u001b[0;31m---------------------------------------------------------------------------\u001b[0m",
            "\u001b[0;31mTypeError\u001b[0m                                 Traceback (most recent call last)",
            "\u001b[0;32m<ipython-input-8-65d604318791>\u001b[0m in \u001b[0;36m<cell line: 6>\u001b[0;34m()\u001b[0m\n\u001b[1;32m      7\u001b[0m   \u001b[0msymbol\u001b[0m \u001b[0;34m=\u001b[0m \u001b[0mi\u001b[0m\u001b[0;34m\u001b[0m\u001b[0;34m\u001b[0m\u001b[0m\n\u001b[1;32m      8\u001b[0m   \u001b[0mstock_data\u001b[0m \u001b[0;34m=\u001b[0m \u001b[0mfetch_stock_data\u001b[0m\u001b[0;34m(\u001b[0m\u001b[0msymbol\u001b[0m\u001b[0;34m,\u001b[0m \u001b[0mstart_date\u001b[0m\u001b[0;34m,\u001b[0m \u001b[0mend_date\u001b[0m\u001b[0;34m)\u001b[0m\u001b[0;34m\u001b[0m\u001b[0;34m\u001b[0m\u001b[0m\n\u001b[0;32m----> 9\u001b[0;31m   \u001b[0;32mfor\u001b[0m \u001b[0mj\u001b[0m \u001b[0;32min\u001b[0m \u001b[0mrange\u001b[0m\u001b[0;34m(\u001b[0m\u001b[0;36m1\u001b[0m\u001b[0;34m,\u001b[0m\u001b[0;36m3\u001b[0m\u001b[0;34m,\u001b[0m\u001b[0;36m0.1\u001b[0m\u001b[0;34m)\u001b[0m\u001b[0;34m:\u001b[0m\u001b[0;34m\u001b[0m\u001b[0;34m\u001b[0m\u001b[0m\n\u001b[0m\u001b[1;32m     10\u001b[0m     \u001b[0;31m# Perform mean reversion strategy\u001b[0m\u001b[0;34m\u001b[0m\u001b[0;34m\u001b[0m\u001b[0m\n\u001b[1;32m     11\u001b[0m     \u001b[0mstrategy_data\u001b[0m \u001b[0;34m=\u001b[0m \u001b[0mmean_reversion_strategy\u001b[0m\u001b[0;34m(\u001b[0m\u001b[0mstock_data\u001b[0m\u001b[0;34m,\u001b[0m\u001b[0mj\u001b[0m\u001b[0;34m)\u001b[0m\u001b[0;34m\u001b[0m\u001b[0;34m\u001b[0m\u001b[0m\n",
            "\u001b[0;31mTypeError\u001b[0m: 'float' object cannot be interpreted as an integer"
          ]
        }
      ]
    }
  ]
}