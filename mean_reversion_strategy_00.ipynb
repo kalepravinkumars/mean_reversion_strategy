{
  "nbformat": 4,
  "nbformat_minor": 0,
  "metadata": {
    "colab": {
      "provenance": []
    },
    "kernelspec": {
      "name": "python3",
      "display_name": "Python 3"
    },
    "language_info": {
      "name": "python"
    }
  },
  "cells": [
    {
      "cell_type": "code",
      "execution_count": null,
      "metadata": {
        "id": "irnGrObqGjAt"
      },
      "outputs": [],
      "source": [
        "import yfinance as yf\n",
        "import pandas as pd\n",
        "from datetime import datetime, timedelta\n",
        "\n",
        "# Function to preprocess historical data for stock splits and events\n",
        "def preprocess_data(data):\n",
        "    # Adjust for stock splits\n",
        "    data['Close'] = data['Close'] / data['Stock Splits'].fillna(1).cumprod()\n",
        "    data['High'] = data['High'] / data['Stock Splits'].fillna(1).cumprod()\n",
        "    data['Low'] = data['Low'] / data['Stock Splits'].fillna(1).cumprod()\n",
        "    data['Open'] = data['Open'] / data['Stock Splits'].fillna(1).cumprod()\n",
        "    data.drop(columns='Stock Splits', inplace=True)\n",
        "\n",
        "    # Remove rows with missing data\n",
        "    data.dropna(inplace=True)\n",
        "\n",
        "    return data\n",
        "\n",
        "# Fetch Nifty 50 stock symbols\n",
        "nifty50_symbols = pd.read_html('https://www.moneycontrol.com/stocks/marketstats/indexcomp.php?optex=NSE&opttopic=indexcomp&index=9')[0]\n",
        "nifty50_symbols = nifty50_symbols['Symbol'].tolist()\n",
        "\n",
        "# Define start and end dates for historical data\n",
        "end_date = datetime.now().date()\n",
        "start_date = end_date - timedelta(days=3*365)\n",
        "\n",
        "# Fetch historical data for each stock in Nifty 50\n",
        "nifty50_data = {}\n",
        "for symbol in nifty50_symbols:\n",
        "    data = yf.download(symbol + '.NS', start=start_date, end=end_date, interval='1d')\n",
        "    if not data.empty:\n",
        "        nifty50_data[symbol] = preprocess_data(data)\n",
        "\n",
        "# Backtesting mean reversion strategy\n",
        "for symbol, data in nifty50_data.items():\n",
        "    # Your mean reversion strategy logic here\n",
        "    # Implement your backtesting algorithm using the 'data' DataFrame for each stock symbol\n",
        "\n",
        "    # Example: Print the first few rows of the preprocessed data\n",
        "    print(symbol)\n",
        "    print(data.head())\n",
        "    print('\\n')\n"
      ]
    }
  ]
}